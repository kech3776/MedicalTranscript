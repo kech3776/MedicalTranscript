{
 "cells": [
  {
   "cell_type": "markdown",
   "id": "ea650e25",
   "metadata": {},
   "source": [
    "# Unsupervised Learning Final Project"
   ]
  },
  {
   "cell_type": "markdown",
   "id": "cdf1988f",
   "metadata": {},
   "source": [
    "## Introduction"
   ]
  },
  {
   "cell_type": "markdown",
   "id": "35f17648",
   "metadata": {},
   "source": [
    "In this unsupervised learning final project, we are going to explore a medical dataset. The dataset contains 5000 entries on patient medical transcriptions. In dataset, there are transcriptions that describe the medical appointment. In addition, there is a column that classifies what kind of medical specialty the appointment falls into. Our goal for this project is to see if we can classify these medical specialties based on the appointment transcription. The process will include:\n",
    "1. Exploring the data\n",
    "2. Cleaning the data\n",
    "3. Vectorizing the data\n",
    "4. Build a non-negative matrix factorization model\n",
    "5. Build an Agglomerative Clustering Model\n",
    "6. Make conclusions based on the results.\n",
    "\n",
    "First we'll import some of the important libraries needed for exploratory data analysis."
   ]
  },
  {
   "cell_type": "code",
   "execution_count": 1,
   "id": "572828ba",
   "metadata": {},
   "outputs": [],
   "source": [
    "import pandas as pd\n",
    "import numpy as np\n",
    "import matplotlib.pyplot as plt\n",
    "import seaborn as sns"
   ]
  },
  {
   "cell_type": "markdown",
   "id": "c37fafd1",
   "metadata": {},
   "source": [
    "## Exploratory Data Analysis"
   ]
  },
  {
   "cell_type": "markdown",
   "id": "ac665e2f",
   "metadata": {},
   "source": [
    "The data used for this project is a dataset off of Kaggle. The title is called Medical Transcriptions uploaded by Tara Boyle. The link to the data is given here: https://www.kaggle.com/datasets/tboyle10/medicaltranscriptions . \n",
    "\n",
    "Now let us import the dataset and take a look at our data. The dataset was taken off  The dataset contains a short description, the medical specialty of the appointment, a sample name, the transcription, and any keywords related to the description. In total, there are 5000 rows of data with some transcriptions and keywords missing."
   ]
  },
  {
   "cell_type": "code",
   "execution_count": 4,
   "id": "d49b643b",
   "metadata": {},
   "outputs": [
    {
     "data": {
      "text/html": [
       "<div>\n",
       "<style scoped>\n",
       "    .dataframe tbody tr th:only-of-type {\n",
       "        vertical-align: middle;\n",
       "    }\n",
       "\n",
       "    .dataframe tbody tr th {\n",
       "        vertical-align: top;\n",
       "    }\n",
       "\n",
       "    .dataframe thead th {\n",
       "        text-align: right;\n",
       "    }\n",
       "</style>\n",
       "<table border=\"1\" class=\"dataframe\">\n",
       "  <thead>\n",
       "    <tr style=\"text-align: right;\">\n",
       "      <th></th>\n",
       "      <th>Unnamed: 0</th>\n",
       "      <th>description</th>\n",
       "      <th>medical_specialty</th>\n",
       "      <th>sample_name</th>\n",
       "      <th>transcription</th>\n",
       "      <th>keywords</th>\n",
       "    </tr>\n",
       "  </thead>\n",
       "  <tbody>\n",
       "    <tr>\n",
       "      <th>0</th>\n",
       "      <td>0</td>\n",
       "      <td>A 23-year-old white female presents with comp...</td>\n",
       "      <td>Allergy / Immunology</td>\n",
       "      <td>Allergic Rhinitis</td>\n",
       "      <td>SUBJECTIVE:,  This 23-year-old white female pr...</td>\n",
       "      <td>allergy / immunology, allergic rhinitis, aller...</td>\n",
       "    </tr>\n",
       "    <tr>\n",
       "      <th>1</th>\n",
       "      <td>1</td>\n",
       "      <td>Consult for laparoscopic gastric bypass.</td>\n",
       "      <td>Bariatrics</td>\n",
       "      <td>Laparoscopic Gastric Bypass Consult - 2</td>\n",
       "      <td>PAST MEDICAL HISTORY:, He has difficulty climb...</td>\n",
       "      <td>bariatrics, laparoscopic gastric bypass, weigh...</td>\n",
       "    </tr>\n",
       "    <tr>\n",
       "      <th>2</th>\n",
       "      <td>2</td>\n",
       "      <td>Consult for laparoscopic gastric bypass.</td>\n",
       "      <td>Bariatrics</td>\n",
       "      <td>Laparoscopic Gastric Bypass Consult - 1</td>\n",
       "      <td>HISTORY OF PRESENT ILLNESS: , I have seen ABC ...</td>\n",
       "      <td>bariatrics, laparoscopic gastric bypass, heart...</td>\n",
       "    </tr>\n",
       "    <tr>\n",
       "      <th>3</th>\n",
       "      <td>3</td>\n",
       "      <td>2-D M-Mode. Doppler.</td>\n",
       "      <td>Cardiovascular / Pulmonary</td>\n",
       "      <td>2-D Echocardiogram - 1</td>\n",
       "      <td>2-D M-MODE: , ,1.  Left atrial enlargement wit...</td>\n",
       "      <td>cardiovascular / pulmonary, 2-d m-mode, dopple...</td>\n",
       "    </tr>\n",
       "    <tr>\n",
       "      <th>4</th>\n",
       "      <td>4</td>\n",
       "      <td>2-D Echocardiogram</td>\n",
       "      <td>Cardiovascular / Pulmonary</td>\n",
       "      <td>2-D Echocardiogram - 2</td>\n",
       "      <td>1.  The left ventricular cavity size and wall ...</td>\n",
       "      <td>cardiovascular / pulmonary, 2-d, doppler, echo...</td>\n",
       "    </tr>\n",
       "  </tbody>\n",
       "</table>\n",
       "</div>"
      ],
      "text/plain": [
       "   Unnamed: 0                                        description  \\\n",
       "0           0   A 23-year-old white female presents with comp...   \n",
       "1           1           Consult for laparoscopic gastric bypass.   \n",
       "2           2           Consult for laparoscopic gastric bypass.   \n",
       "3           3                             2-D M-Mode. Doppler.     \n",
       "4           4                                 2-D Echocardiogram   \n",
       "\n",
       "             medical_specialty                                sample_name  \\\n",
       "0         Allergy / Immunology                         Allergic Rhinitis    \n",
       "1                   Bariatrics   Laparoscopic Gastric Bypass Consult - 2    \n",
       "2                   Bariatrics   Laparoscopic Gastric Bypass Consult - 1    \n",
       "3   Cardiovascular / Pulmonary                    2-D Echocardiogram - 1    \n",
       "4   Cardiovascular / Pulmonary                    2-D Echocardiogram - 2    \n",
       "\n",
       "                                       transcription  \\\n",
       "0  SUBJECTIVE:,  This 23-year-old white female pr...   \n",
       "1  PAST MEDICAL HISTORY:, He has difficulty climb...   \n",
       "2  HISTORY OF PRESENT ILLNESS: , I have seen ABC ...   \n",
       "3  2-D M-MODE: , ,1.  Left atrial enlargement wit...   \n",
       "4  1.  The left ventricular cavity size and wall ...   \n",
       "\n",
       "                                            keywords  \n",
       "0  allergy / immunology, allergic rhinitis, aller...  \n",
       "1  bariatrics, laparoscopic gastric bypass, weigh...  \n",
       "2  bariatrics, laparoscopic gastric bypass, heart...  \n",
       "3  cardiovascular / pulmonary, 2-d m-mode, dopple...  \n",
       "4  cardiovascular / pulmonary, 2-d, doppler, echo...  "
      ]
     },
     "execution_count": 4,
     "metadata": {},
     "output_type": "execute_result"
    }
   ],
   "source": [
    "df = pd.read_csv('https://raw.githubusercontent.com/kech3776/MedicalTranscript/main/mtsamples.csv')\n",
    "df.head()"
   ]
  },
  {
   "cell_type": "code",
   "execution_count": 5,
   "id": "d57e59a9",
   "metadata": {},
   "outputs": [
    {
     "name": "stdout",
     "output_type": "stream",
     "text": [
      "<class 'pandas.core.frame.DataFrame'>\n",
      "RangeIndex: 4999 entries, 0 to 4998\n",
      "Data columns (total 6 columns):\n",
      " #   Column             Non-Null Count  Dtype \n",
      "---  ------             --------------  ----- \n",
      " 0   Unnamed: 0         4999 non-null   int64 \n",
      " 1   description        4999 non-null   object\n",
      " 2   medical_specialty  4999 non-null   object\n",
      " 3   sample_name        4999 non-null   object\n",
      " 4   transcription      4966 non-null   object\n",
      " 5   keywords           3931 non-null   object\n",
      "dtypes: int64(1), object(5)\n",
      "memory usage: 234.5+ KB\n"
     ]
    }
   ],
   "source": [
    "df.info()"
   ]
  },
  {
   "cell_type": "markdown",
   "id": "4ca8da94",
   "metadata": {},
   "source": [
    "Next, we will look at all of the unique medical specialties in the dataset. There are 40 unique medical specialties in this dataset."
   ]
  },
  {
   "cell_type": "code",
   "execution_count": 5,
   "id": "82f08b7a",
   "metadata": {},
   "outputs": [
    {
     "name": "stdout",
     "output_type": "stream",
     "text": [
      "[' Allergy / Immunology' ' Bariatrics' ' Cardiovascular / Pulmonary'\n",
      " ' Neurology' ' Dentistry' ' Urology' ' General Medicine' ' Surgery'\n",
      " ' Speech - Language' ' SOAP / Chart / Progress Notes' ' Sleep Medicine'\n",
      " ' Rheumatology' ' Radiology' ' Psychiatry / Psychology' ' Podiatry'\n",
      " ' Physical Medicine - Rehab' ' Pediatrics - Neonatal' ' Pain Management'\n",
      " ' Orthopedic' ' Ophthalmology' ' Office Notes' ' Obstetrics / Gynecology'\n",
      " ' Neurosurgery' ' Nephrology' ' Letters' ' Lab Medicine - Pathology'\n",
      " ' IME-QME-Work Comp etc.' ' Hospice - Palliative Care'\n",
      " ' Hematology - Oncology' ' Gastroenterology' ' ENT - Otolaryngology'\n",
      " ' Endocrinology' ' Emergency Room Reports' ' Discharge Summary'\n",
      " ' Diets and Nutritions' ' Dermatology' ' Cosmetic / Plastic Surgery'\n",
      " ' Consult - History and Phy.' ' Chiropractic' ' Autopsy']\n",
      "40\n"
     ]
    }
   ],
   "source": [
    "print(df['medical_specialty'].unique())\n",
    "print(len(df['medical_specialty'].unique()))"
   ]
  },
  {
   "cell_type": "markdown",
   "id": "e105f233",
   "metadata": {},
   "source": [
    "Forty medical specialties is a ton on specialties to classify. Furthermore, many of the specialties don't have a ton of entries. For this project, we will take all of the medical specialties that have 200 or more entries which is the top 8 most frequent specialties. Below, there a list of the top 8 and a histogram to get a visualization of the frequencies of the specialties."
   ]
  },
  {
   "cell_type": "code",
   "execution_count": 6,
   "id": "e5c1a7d2",
   "metadata": {},
   "outputs": [
    {
     "data": {
      "text/html": [
       "<div>\n",
       "<style scoped>\n",
       "    .dataframe tbody tr th:only-of-type {\n",
       "        vertical-align: middle;\n",
       "    }\n",
       "\n",
       "    .dataframe tbody tr th {\n",
       "        vertical-align: top;\n",
       "    }\n",
       "\n",
       "    .dataframe thead th {\n",
       "        text-align: right;\n",
       "    }\n",
       "</style>\n",
       "<table border=\"1\" class=\"dataframe\">\n",
       "  <thead>\n",
       "    <tr style=\"text-align: right;\">\n",
       "      <th></th>\n",
       "      <th>medical_specialty</th>\n",
       "      <th>frequency</th>\n",
       "    </tr>\n",
       "  </thead>\n",
       "  <tbody>\n",
       "    <tr>\n",
       "      <th>0</th>\n",
       "      <td>Surgery</td>\n",
       "      <td>1103</td>\n",
       "    </tr>\n",
       "    <tr>\n",
       "      <th>1</th>\n",
       "      <td>Consult - History and Phy.</td>\n",
       "      <td>516</td>\n",
       "    </tr>\n",
       "    <tr>\n",
       "      <th>2</th>\n",
       "      <td>Cardiovascular / Pulmonary</td>\n",
       "      <td>372</td>\n",
       "    </tr>\n",
       "    <tr>\n",
       "      <th>3</th>\n",
       "      <td>Orthopedic</td>\n",
       "      <td>355</td>\n",
       "    </tr>\n",
       "    <tr>\n",
       "      <th>4</th>\n",
       "      <td>Radiology</td>\n",
       "      <td>273</td>\n",
       "    </tr>\n",
       "    <tr>\n",
       "      <th>5</th>\n",
       "      <td>General Medicine</td>\n",
       "      <td>259</td>\n",
       "    </tr>\n",
       "    <tr>\n",
       "      <th>6</th>\n",
       "      <td>Gastroenterology</td>\n",
       "      <td>230</td>\n",
       "    </tr>\n",
       "    <tr>\n",
       "      <th>7</th>\n",
       "      <td>Neurology</td>\n",
       "      <td>223</td>\n",
       "    </tr>\n",
       "  </tbody>\n",
       "</table>\n",
       "</div>"
      ],
      "text/plain": [
       "             medical_specialty  frequency\n",
       "0                      Surgery       1103\n",
       "1   Consult - History and Phy.        516\n",
       "2   Cardiovascular / Pulmonary        372\n",
       "3                   Orthopedic        355\n",
       "4                    Radiology        273\n",
       "5             General Medicine        259\n",
       "6             Gastroenterology        230\n",
       "7                    Neurology        223"
      ]
     },
     "execution_count": 6,
     "metadata": {},
     "output_type": "execute_result"
    }
   ],
   "source": [
    "specialties = df['medical_specialty'].value_counts().to_frame()\n",
    "specialties = specialties.reset_index()\n",
    "specialties.columns = ['medical_specialty', 'frequency']\n",
    "specialties = specialties.head(8)\n",
    "specialties"
   ]
  },
  {
   "cell_type": "code",
   "execution_count": 7,
   "id": "4d461435",
   "metadata": {},
   "outputs": [
    {
     "data": {
      "text/plain": [
       "<AxesSubplot:xlabel='frequency', ylabel='medical_specialty'>"
      ]
     },
     "execution_count": 7,
     "metadata": {},
     "output_type": "execute_result"
    },
    {
     "data": {
      "image/png": "[encoded data removed]",
      "text/plain": [
       "<Figure size 576x360 with 1 Axes>"
      ]
     },
     "metadata": {
      "needs_background": "light"
     },
     "output_type": "display_data"
    }
   ],
   "source": [
    "fig, axs = plt.subplots(figsize = (8,5))\n",
    "sns.barplot(data = specialties, y = 'medical_specialty', x = 'frequency')"
   ]
  },
  {
   "cell_type": "markdown",
   "id": "ab8b5ed8",
   "metadata": {},
   "source": [
    "After keeping the top 8 most frequent specialties, we now have 3331 entries. However, remember that there are some transcriptions that are blank. We will also remove any blank entries. After removing the blank entries, we now have 3309 transcriptions."
   ]
  },
  {
   "cell_type": "code",
   "execution_count": 8,
   "id": "69095359",
   "metadata": {},
   "outputs": [
    {
     "data": {
      "text/plain": [
       "3331"
      ]
     },
     "execution_count": 8,
     "metadata": {},
     "output_type": "execute_result"
    }
   ],
   "source": [
    "specialties['frequency'].sum()"
   ]
  },
  {
   "cell_type": "code",
   "execution_count": 9,
   "id": "313ecb2e",
   "metadata": {},
   "outputs": [
    {
     "data": {
      "text/plain": [
       "(3331, 7)"
      ]
     },
     "execution_count": 9,
     "metadata": {},
     "output_type": "execute_result"
    }
   ],
   "source": [
    "reduced_df = pd.merge(df, specialties, on ='medical_specialty', how = 'inner' )\n",
    "reduced_df.shape"
   ]
  },
  {
   "cell_type": "code",
   "execution_count": 10,
   "id": "d8a36ca2",
   "metadata": {},
   "outputs": [
    {
     "name": "stdout",
     "output_type": "stream",
     "text": [
      "(3309, 3)\n",
      "(3331, 3)\n"
     ]
    }
   ],
   "source": [
    "reduced_df = reduced_df[['medical_specialty', 'transcription', 'keywords']].copy()\n",
    "transcription_df = reduced_df.dropna(subset = ['transcription'])\n",
    "transcription_df = transcription_df.reset_index(drop = True)\n",
    "print(transcription_df.shape)\n",
    "print(reduced_df.shape)"
   ]
  },
  {
   "cell_type": "markdown",
   "id": "0c7cca3d",
   "metadata": {},
   "source": [
    "We have now seen some of the preliminary data. Let's start to clean that data into something we can use. Below, we have a method that cleans the text data into something that we can use. For this process, we will be using the nltk library.\n",
    "The process goes:\n",
    "1. Tokenize all of the text\n",
    "2. Remove any of the punctuation.\n",
    "3. Remove any stop words such as \"to\" and \"or\"\n",
    "4. Stemming the words still present to reduce the number of similar words i.e. fish, fishing, fished"
   ]
  },
  {
   "cell_type": "code",
   "execution_count": 11,
   "id": "2d465f41",
   "metadata": {},
   "outputs": [],
   "source": [
    "import string\n",
    "from nltk import word_tokenize\n",
    "from nltk.corpus import stopwords\n",
    "from nltk.stem.porter import PorterStemmer\n",
    "\n",
    "def clean_data(df, column_name):\n",
    "    df_set = []\n",
    "    df_set_length = []\n",
    "    string_set = []\n",
    "    for i in range(len(df)):\n",
    "        tokens = word_tokenize(df[column_name][i])\n",
    "        table = str.maketrans('','',string.punctuation)\n",
    "        stripped = [w.translate(table) for w in tokens]\n",
    "        words = [word for word in stripped if word.isalpha()]\n",
    "        stop_words = set(stopwords.words('english'))\n",
    "        words = [w for w in words if not w in stop_words]\n",
    "        porter = PorterStemmer()\n",
    "        stemmed = [porter.stem(term) for term in words ]\n",
    "        df_set.append(stemmed)\n",
    "        df_set_length.append(len(stemmed))\n",
    "        string_set.append(' '.join(stemmed))\n",
    "    df['Tokenized'] = df_set\n",
    "    df['SetLength'] = df_set_length\n",
    "    df['String Set'] = string_set\n",
    "    return df"
   ]
  },
  {
   "cell_type": "markdown",
   "id": "31799b7b",
   "metadata": {},
   "source": [
    "Here we can see the cleaned data. The 'Tokenized' column shows what the article in the text looks like once tokenized. The 'SetLength' is how long the article is after the text processing. The 'String Set' column will be the data used to transform the text into tf-idf representation."
   ]
  },
  {
   "cell_type": "code",
   "execution_count": 12,
   "id": "2fc6b9c7",
   "metadata": {},
   "outputs": [
    {
     "data": {
      "text/html": [
       "<div>\n",
       "<style scoped>\n",
       "    .dataframe tbody tr th:only-of-type {\n",
       "        vertical-align: middle;\n",
       "    }\n",
       "\n",
       "    .dataframe tbody tr th {\n",
       "        vertical-align: top;\n",
       "    }\n",
       "\n",
       "    .dataframe thead th {\n",
       "        text-align: right;\n",
       "    }\n",
       "</style>\n",
       "<table border=\"1\" class=\"dataframe\">\n",
       "  <thead>\n",
       "    <tr style=\"text-align: right;\">\n",
       "      <th></th>\n",
       "      <th>medical_specialty</th>\n",
       "      <th>transcription</th>\n",
       "      <th>keywords</th>\n",
       "      <th>Tokenized</th>\n",
       "      <th>SetLength</th>\n",
       "      <th>String Set</th>\n",
       "    </tr>\n",
       "  </thead>\n",
       "  <tbody>\n",
       "    <tr>\n",
       "      <th>0</th>\n",
       "      <td>Cardiovascular / Pulmonary</td>\n",
       "      <td>2-D M-MODE: , ,1.  Left atrial enlargement wit...</td>\n",
       "      <td>cardiovascular / pulmonary, 2-d m-mode, dopple...</td>\n",
       "      <td>[mmode, left, atrial, enlarg, left, atrial, di...</td>\n",
       "      <td>45</td>\n",
       "      <td>mmode left atrial enlarg left atrial diamet no...</td>\n",
       "    </tr>\n",
       "    <tr>\n",
       "      <th>1</th>\n",
       "      <td>Cardiovascular / Pulmonary</td>\n",
       "      <td>1.  The left ventricular cavity size and wall ...</td>\n",
       "      <td>cardiovascular / pulmonary, 2-d, doppler, echo...</td>\n",
       "      <td>[the, left, ventricular, caviti, size, wall, t...</td>\n",
       "      <td>161</td>\n",
       "      <td>the left ventricular caviti size wall thick ap...</td>\n",
       "    </tr>\n",
       "    <tr>\n",
       "      <th>2</th>\n",
       "      <td>Cardiovascular / Pulmonary</td>\n",
       "      <td>2-D ECHOCARDIOGRAM,Multiple views of the heart...</td>\n",
       "      <td>cardiovascular / pulmonary, 2-d echocardiogram...</td>\n",
       "      <td>[echocardiogram, multipl, view, heart, great, ...</td>\n",
       "      <td>78</td>\n",
       "      <td>echocardiogram multipl view heart great vessel...</td>\n",
       "    </tr>\n",
       "    <tr>\n",
       "      <th>3</th>\n",
       "      <td>Cardiovascular / Pulmonary</td>\n",
       "      <td>DESCRIPTION:,1.  Normal cardiac chambers size....</td>\n",
       "      <td>cardiovascular / pulmonary, ejection fraction,...</td>\n",
       "      <td>[descript, normal, cardiac, chamber, normal, l...</td>\n",
       "      <td>46</td>\n",
       "      <td>descript normal cardiac chamber normal left ve...</td>\n",
       "    </tr>\n",
       "    <tr>\n",
       "      <th>4</th>\n",
       "      <td>Cardiovascular / Pulmonary</td>\n",
       "      <td>2-D STUDY,1. Mild aortic stenosis, widely calc...</td>\n",
       "      <td>cardiovascular / pulmonary, 2-d study, doppler...</td>\n",
       "      <td>[mild, aortic, stenosi, wide, calcifi, minim, ...</td>\n",
       "      <td>55</td>\n",
       "      <td>mild aortic stenosi wide calcifi minim mild le...</td>\n",
       "    </tr>\n",
       "  </tbody>\n",
       "</table>\n",
       "</div>"
      ],
      "text/plain": [
       "             medical_specialty  \\\n",
       "0   Cardiovascular / Pulmonary   \n",
       "1   Cardiovascular / Pulmonary   \n",
       "2   Cardiovascular / Pulmonary   \n",
       "3   Cardiovascular / Pulmonary   \n",
       "4   Cardiovascular / Pulmonary   \n",
       "\n",
       "                                       transcription  \\\n",
       "0  2-D M-MODE: , ,1.  Left atrial enlargement wit...   \n",
       "1  1.  The left ventricular cavity size and wall ...   \n",
       "2  2-D ECHOCARDIOGRAM,Multiple views of the heart...   \n",
       "3  DESCRIPTION:,1.  Normal cardiac chambers size....   \n",
       "4  2-D STUDY,1. Mild aortic stenosis, widely calc...   \n",
       "\n",
       "                                            keywords  \\\n",
       "0  cardiovascular / pulmonary, 2-d m-mode, dopple...   \n",
       "1  cardiovascular / pulmonary, 2-d, doppler, echo...   \n",
       "2  cardiovascular / pulmonary, 2-d echocardiogram...   \n",
       "3  cardiovascular / pulmonary, ejection fraction,...   \n",
       "4  cardiovascular / pulmonary, 2-d study, doppler...   \n",
       "\n",
       "                                           Tokenized  SetLength  \\\n",
       "0  [mmode, left, atrial, enlarg, left, atrial, di...         45   \n",
       "1  [the, left, ventricular, caviti, size, wall, t...        161   \n",
       "2  [echocardiogram, multipl, view, heart, great, ...         78   \n",
       "3  [descript, normal, cardiac, chamber, normal, l...         46   \n",
       "4  [mild, aortic, stenosi, wide, calcifi, minim, ...         55   \n",
       "\n",
       "                                          String Set  \n",
       "0  mmode left atrial enlarg left atrial diamet no...  \n",
       "1  the left ventricular caviti size wall thick ap...  \n",
       "2  echocardiogram multipl view heart great vessel...  \n",
       "3  descript normal cardiac chamber normal left ve...  \n",
       "4  mild aortic stenosi wide calcifi minim mild le...  "
      ]
     },
     "execution_count": 12,
     "metadata": {},
     "output_type": "execute_result"
    }
   ],
   "source": [
    "clean_transcript_data = clean_data(transcription_df, 'transcription')\n",
    "clean_transcript_data.head()"
   ]
  },
  {
   "cell_type": "markdown",
   "id": "db77d339",
   "metadata": {},
   "source": [
    "Below are a couple more visuals of the data. The transcriptions have a mean length of 295 words with a standard deviation of 184 words. For the histogram, the word count skews to the right."
   ]
  },
  {
   "cell_type": "code",
   "execution_count": 13,
   "id": "aa3c0524",
   "metadata": {},
   "outputs": [
    {
     "data": {
      "text/plain": [
       "count    3309.000000\n",
       "mean      295.878211\n",
       "std       184.524694\n",
       "min         1.000000\n",
       "25%       161.000000\n",
       "50%       264.000000\n",
       "75%       392.000000\n",
       "max      1417.000000\n",
       "Name: SetLength, dtype: float64"
      ]
     },
     "execution_count": 13,
     "metadata": {},
     "output_type": "execute_result"
    }
   ],
   "source": [
    "clean_transcript_data['SetLength'].describe()"
   ]
  },
  {
   "cell_type": "code",
   "execution_count": 14,
   "id": "c88f9728",
   "metadata": {},
   "outputs": [
    {
     "data": {
      "image/png": "[encoded data removed]",
      "text/plain": [
       "<Figure size 1080x360 with 1 Axes>"
      ]
     },
     "metadata": {
      "needs_background": "light"
     },
     "output_type": "display_data"
    }
   ],
   "source": [
    "fig, axs = plt.subplots(figsize = (15,5))\n",
    "sns.histplot(data = clean_transcript_data['SetLength'])\n",
    "axs.title.set_text('Transcript Word Count')"
   ]
  },
  {
   "cell_type": "markdown",
   "id": "8481f12d",
   "metadata": {},
   "source": [
    "The box plot shows the distribution of lengths between the specialties. It looks like radiology transcripts tend to have to lowest number of words. Orthopedic appointments tend to have longer transcripts compared to other specialties. Consults and surgery look to have the most outliers."
   ]
  },
  {
   "cell_type": "code",
   "execution_count": 15,
   "id": "a902cbf3",
   "metadata": {},
   "outputs": [
    {
     "data": {
      "image/png": "[encoded data removed]",
      "text/plain": [
       "<Figure size 1008x720 with 1 Axes>"
      ]
     },
     "metadata": {
      "needs_background": "light"
     },
     "output_type": "display_data"
    }
   ],
   "source": [
    "fig, axs = plt.subplots(figsize = (14,10))\n",
    "sns.boxplot(data = clean_transcript_data, x = 'SetLength', y = 'medical_specialty')\n",
    "axs.title.set_text('Word Distribution by Category')"
   ]
  },
  {
   "cell_type": "markdown",
   "id": "ede59686",
   "metadata": {},
   "source": [
    "## Building and Training Models"
   ]
  },
  {
   "cell_type": "markdown",
   "id": "6bcad853",
   "metadata": {},
   "source": [
    "Now we transform the 'Set String' processed text data into a tf-idf matrix. First we split the data into training data and test data. Next, we call TfidVectorizer. I run a loop to have multiple vectorized matrices with different min_df. The min_df is the minimun frequency a word needs to appear in to be counted. I get a list of 4 transformed sparse matrices. For exmaple, the first transformed matrix is a 2647x4514 sparse matrix. This means that for the 2647 transcriptions in the training data, there are 4514 unique words that have been counted as relevant. Depending on the min_df, there will be fewer key words since the higher the min_df, the fewer the key words."
   ]
  },
  {
   "cell_type": "code",
   "execution_count": 31,
   "id": "0bde64fa",
   "metadata": {},
   "outputs": [
    {
     "data": {
      "text/plain": [
       "[<2647x4514 sparse matrix of type '<class 'numpy.float64'>'\n",
       " \twith 426127 stored elements in Compressed Sparse Row format>,\n",
       " <2647x3154 sparse matrix of type '<class 'numpy.float64'>'\n",
       " \twith 407616 stored elements in Compressed Sparse Row format>,\n",
       " <2647x1033 sparse matrix of type '<class 'numpy.float64'>'\n",
       " \twith 313170 stored elements in Compressed Sparse Row format>,\n",
       " <2647x533 sparse matrix of type '<class 'numpy.float64'>'\n",
       " \twith 242760 stored elements in Compressed Sparse Row format>]"
      ]
     },
     "execution_count": 31,
     "metadata": {},
     "output_type": "execute_result"
    }
   ],
   "source": [
    "from sklearn.feature_extraction.text import TfidfVectorizer\n",
    "from sklearn.model_selection import train_test_split\n",
    "\n",
    "X_train, X_test, y_train, y_test = train_test_split(clean_transcript_data['String Set'], clean_transcript_data['medical_specialty'], test_size = 0.2, random_state = 15) \n",
    "\n",
    "min_df = [10,20,100,200]\n",
    "X_vects = []\n",
    "vectorizers = []\n",
    "for i in min_df:\n",
    "    vectorizer = TfidfVectorizer(min_df = i)\n",
    "    X = vectorizer.fit_transform(X_train)\n",
    "    X_vects.append(X)\n",
    "    vectorizers.append(vectorizer)\n",
    "X_vects"
   ]
  },
  {
   "cell_type": "markdown",
   "id": "0b8ef579",
   "metadata": {},
   "source": [
    "### Non Negative Matrix Factorization"
   ]
  },
  {
   "cell_type": "markdown",
   "id": "5192ee98",
   "metadata": {},
   "source": [
    "Next, we take that sparse matrix and create an NMF model to generate the feature and component matrices. The n_components is equal to 8 since there are 8 different medical specialties. I will also run a loop to tune the hyperparameters of init. There are 12 transformations total. "
   ]
  },
  {
   "cell_type": "code",
   "execution_count": 24,
   "id": "a04acd5b",
   "metadata": {},
   "outputs": [
    {
     "name": "stderr",
     "output_type": "stream",
     "text": [
      "C:\\Anaconda\\lib\\site-packages\\sklearn\\decomposition\\_nmf.py:1641: ConvergenceWarning: Maximum number of iterations 200 reached. Increase it to improve convergence.\n",
      "  ConvergenceWarning,\n"
     ]
    }
   ],
   "source": [
    "from sklearn.decomposition import NMF\n",
    "init = ['random', 'nndsvd', 'nndsvda']\n",
    "nmf_transformations = []\n",
    "nmf_models = []\n",
    "for i in X_vects:\n",
    "    for j in init:\n",
    "        model = NMF(n_components = 8, random_state = 100, init = j)\n",
    "        model.fit(i)\n",
    "        nmf_features = model.transform(i)\n",
    "        nmf_transformations.append(nmf_features)\n",
    "        nmf_models.append(model)"
   ]
  },
  {
   "cell_type": "markdown",
   "id": "e5516a6e",
   "metadata": {},
   "source": [
    "Here I take the first one from the list as an example. The features matrix is 2647x8 meaning that of the 2647 transcriptions in the training set and each transcription is given 8 scores. Each score determines what medical specialty the model thinks the transcription is in with the highest score being the prediction. I have shown below the scores given to transcription 100. For that transcription it looks like the model thinks that the article belongs to category 7 with the highest score of 0.0855. The components matrix has a shape of 8x4514. The components matrix shows all of the words and how how related they are to each medical specialty."
   ]
  },
  {
   "cell_type": "code",
   "execution_count": 25,
   "id": "7b6afe82",
   "metadata": {},
   "outputs": [
    {
     "data": {
      "text/plain": [
       "(2647, 8)"
      ]
     },
     "execution_count": 25,
     "metadata": {},
     "output_type": "execute_result"
    }
   ],
   "source": [
    "nmf_transformations[0].shape"
   ]
  },
  {
   "cell_type": "code",
   "execution_count": 27,
   "id": "5a15171e",
   "metadata": {},
   "outputs": [
    {
     "data": {
      "text/plain": [
       "0    0.002501\n",
       "1    0.008306\n",
       "2    0.000000\n",
       "3    0.009642\n",
       "4    0.067549\n",
       "5    0.004271\n",
       "6    0.012224\n",
       "7    0.085512\n",
       "Name: 100, dtype: float64"
      ]
     },
     "execution_count": 27,
     "metadata": {},
     "output_type": "execute_result"
    }
   ],
   "source": [
    "pd.DataFrame(nmf_transformations[0]).iloc[100]"
   ]
  },
  {
   "cell_type": "code",
   "execution_count": 28,
   "id": "623932f7",
   "metadata": {},
   "outputs": [
    {
     "data": {
      "text/plain": [
       "(8, 4514)"
      ]
     },
     "execution_count": 28,
     "metadata": {},
     "output_type": "execute_result"
    }
   ],
   "source": [
    "nmf_models[0].components_.shape"
   ]
  },
  {
   "cell_type": "markdown",
   "id": "249e708d",
   "metadata": {},
   "source": [
    "Here is what the components dataframe looks like as a dataframe. The column labels show the words and how much they influence the decision of each transciption to be put into each medical specialty. Below, I have shown the first 10 of 4514 words."
   ]
  },
  {
   "cell_type": "code",
   "execution_count": 33,
   "id": "b62c58d8",
   "metadata": {},
   "outputs": [
    {
     "data": {
      "text/html": [
       "<div>\n",
       "<style scoped>\n",
       "    .dataframe tbody tr th:only-of-type {\n",
       "        vertical-align: middle;\n",
       "    }\n",
       "\n",
       "    .dataframe tbody tr th {\n",
       "        vertical-align: top;\n",
       "    }\n",
       "\n",
       "    .dataframe thead th {\n",
       "        text-align: right;\n",
       "    }\n",
       "</style>\n",
       "<table border=\"1\" class=\"dataframe\">\n",
       "  <thead>\n",
       "    <tr style=\"text-align: right;\">\n",
       "      <th></th>\n",
       "      <th>abc</th>\n",
       "      <th>abcd</th>\n",
       "      <th>abd</th>\n",
       "      <th>abdomen</th>\n",
       "      <th>abdomin</th>\n",
       "      <th>abduct</th>\n",
       "      <th>abductor</th>\n",
       "      <th>abductovalgu</th>\n",
       "      <th>abg</th>\n",
       "      <th>abil</th>\n",
       "    </tr>\n",
       "  </thead>\n",
       "  <tbody>\n",
       "    <tr>\n",
       "      <th>0</th>\n",
       "      <td>0.018386</td>\n",
       "      <td>0.011250</td>\n",
       "      <td>0.002492</td>\n",
       "      <td>0.312621</td>\n",
       "      <td>0.193492</td>\n",
       "      <td>0.000000</td>\n",
       "      <td>0.000000</td>\n",
       "      <td>0.000000</td>\n",
       "      <td>0.000000</td>\n",
       "      <td>0.000000</td>\n",
       "    </tr>\n",
       "    <tr>\n",
       "      <th>1</th>\n",
       "      <td>0.007653</td>\n",
       "      <td>0.000000</td>\n",
       "      <td>0.000000</td>\n",
       "      <td>0.000000</td>\n",
       "      <td>0.005274</td>\n",
       "      <td>0.000000</td>\n",
       "      <td>0.000269</td>\n",
       "      <td>0.000000</td>\n",
       "      <td>0.000000</td>\n",
       "      <td>0.000000</td>\n",
       "    </tr>\n",
       "    <tr>\n",
       "      <th>2</th>\n",
       "      <td>0.036255</td>\n",
       "      <td>0.035283</td>\n",
       "      <td>0.002413</td>\n",
       "      <td>0.023694</td>\n",
       "      <td>0.017480</td>\n",
       "      <td>0.010006</td>\n",
       "      <td>0.003933</td>\n",
       "      <td>0.000000</td>\n",
       "      <td>0.005222</td>\n",
       "      <td>0.016041</td>\n",
       "    </tr>\n",
       "    <tr>\n",
       "      <th>3</th>\n",
       "      <td>0.071000</td>\n",
       "      <td>0.016758</td>\n",
       "      <td>0.000000</td>\n",
       "      <td>0.051547</td>\n",
       "      <td>0.013963</td>\n",
       "      <td>0.005075</td>\n",
       "      <td>0.001320</td>\n",
       "      <td>0.000000</td>\n",
       "      <td>0.011061</td>\n",
       "      <td>0.019954</td>\n",
       "    </tr>\n",
       "    <tr>\n",
       "      <th>4</th>\n",
       "      <td>0.000000</td>\n",
       "      <td>0.016482</td>\n",
       "      <td>0.006363</td>\n",
       "      <td>0.138567</td>\n",
       "      <td>0.116673</td>\n",
       "      <td>0.000000</td>\n",
       "      <td>0.000000</td>\n",
       "      <td>0.000000</td>\n",
       "      <td>0.000450</td>\n",
       "      <td>0.001760</td>\n",
       "    </tr>\n",
       "    <tr>\n",
       "      <th>5</th>\n",
       "      <td>0.000000</td>\n",
       "      <td>0.000000</td>\n",
       "      <td>0.000000</td>\n",
       "      <td>0.000000</td>\n",
       "      <td>0.000000</td>\n",
       "      <td>0.000313</td>\n",
       "      <td>0.010771</td>\n",
       "      <td>0.000000</td>\n",
       "      <td>0.000000</td>\n",
       "      <td>0.000000</td>\n",
       "    </tr>\n",
       "    <tr>\n",
       "      <th>6</th>\n",
       "      <td>0.000000</td>\n",
       "      <td>0.003407</td>\n",
       "      <td>0.000000</td>\n",
       "      <td>0.044272</td>\n",
       "      <td>0.101438</td>\n",
       "      <td>0.000000</td>\n",
       "      <td>0.000000</td>\n",
       "      <td>0.000000</td>\n",
       "      <td>0.000000</td>\n",
       "      <td>0.000000</td>\n",
       "    </tr>\n",
       "    <tr>\n",
       "      <th>7</th>\n",
       "      <td>0.014606</td>\n",
       "      <td>0.043224</td>\n",
       "      <td>0.035281</td>\n",
       "      <td>0.000000</td>\n",
       "      <td>0.000000</td>\n",
       "      <td>0.020602</td>\n",
       "      <td>0.021893</td>\n",
       "      <td>0.024807</td>\n",
       "      <td>0.000000</td>\n",
       "      <td>0.004458</td>\n",
       "    </tr>\n",
       "  </tbody>\n",
       "</table>\n",
       "</div>"
      ],
      "text/plain": [
       "        abc      abcd       abd   abdomen   abdomin    abduct  abductor  \\\n",
       "0  0.018386  0.011250  0.002492  0.312621  0.193492  0.000000  0.000000   \n",
       "1  0.007653  0.000000  0.000000  0.000000  0.005274  0.000000  0.000269   \n",
       "2  0.036255  0.035283  0.002413  0.023694  0.017480  0.010006  0.003933   \n",
       "3  0.071000  0.016758  0.000000  0.051547  0.013963  0.005075  0.001320   \n",
       "4  0.000000  0.016482  0.006363  0.138567  0.116673  0.000000  0.000000   \n",
       "5  0.000000  0.000000  0.000000  0.000000  0.000000  0.000313  0.010771   \n",
       "6  0.000000  0.003407  0.000000  0.044272  0.101438  0.000000  0.000000   \n",
       "7  0.014606  0.043224  0.035281  0.000000  0.000000  0.020602  0.021893   \n",
       "\n",
       "   abductovalgu       abg      abil  \n",
       "0      0.000000  0.000000  0.000000  \n",
       "1      0.000000  0.000000  0.000000  \n",
       "2      0.000000  0.005222  0.016041  \n",
       "3      0.000000  0.011061  0.019954  \n",
       "4      0.000000  0.000450  0.001760  \n",
       "5      0.000000  0.000000  0.000000  \n",
       "6      0.000000  0.000000  0.000000  \n",
       "7      0.024807  0.000000  0.004458  "
      ]
     },
     "execution_count": 33,
     "metadata": {},
     "output_type": "execute_result"
    }
   ],
   "source": [
    "components_df = pd.DataFrame(nmf_models[0].components_, columns=vectorizers[0].get_feature_names_out()) \n",
    "components_df.iloc[:, :10]"
   ]
  },
  {
   "cell_type": "markdown",
   "id": "824efdf8",
   "metadata": {},
   "source": [
    "Since there are 3154 words of interest total, I have organized them into the top 5 highest value words for each category. Any initial guesses to what the categories are?"
   ]
  },
  {
   "cell_type": "code",
   "execution_count": 34,
   "id": "7ec790cb",
   "metadata": {},
   "outputs": [
    {
     "name": "stdout",
     "output_type": "stream",
     "text": [
      "For category 0 the words with the highest value are:\n",
      "no         1.826763\n",
      "histori    1.127563\n",
      "patient    0.899890\n",
      "normal     0.683480\n",
      "the        0.658029\n",
      "Name: 0, dtype: float64\n",
      "\n",
      "\n",
      "For category 1 the words with the highest value are:\n",
      "arteri      0.964069\n",
      "coronari    0.753129\n",
      "left        0.685269\n",
      "right       0.444220\n",
      "cathet      0.431825\n",
      "Name: 1, dtype: float64\n",
      "\n",
      "\n",
      "For category 2 the words with the highest value are:\n",
      "he         2.117471\n",
      "hi         0.535860\n",
      "histori    0.303341\n",
      "medic      0.272209\n",
      "day        0.262919\n",
      "Name: 2, dtype: float64\n",
      "\n",
      "\n",
      "For category 3 the words with the highest value are:\n",
      "she        3.085094\n",
      "her        0.589107\n",
      "histori    0.508187\n",
      "mg         0.470300\n",
      "medic      0.393894\n",
      "Name: 3, dtype: float64\n",
      "\n",
      "\n",
      "For category 4 the words with the highest value are:\n",
      "the         1.377591\n",
      "patient     0.781538\n",
      "place       0.694244\n",
      "procedur    0.683086\n",
      "sutur       0.553699\n",
      "Name: 4, dtype: float64\n",
      "\n",
      "\n",
      "For category 5 the words with the highest value are:\n",
      "carpal       1.270320\n",
      "tunnel       0.699323\n",
      "ligament     0.525206\n",
      "transvers    0.434550\n",
      "ulnar        0.426485\n",
      "Name: 5, dtype: float64\n",
      "\n",
      "\n",
      "For category 6 the words with the highest value are:\n",
      "colon     0.930402\n",
      "polyp     0.715467\n",
      "scope     0.639424\n",
      "the       0.622873\n",
      "normal    0.508531\n",
      "Name: 6, dtype: float64\n",
      "\n",
      "\n",
      "For category 7 the words with the highest value are:\n",
      "the        0.637255\n",
      "medial     0.501324\n",
      "screw      0.479701\n",
      "fractur    0.457428\n",
      "foot       0.452920\n",
      "Name: 7, dtype: float64\n",
      "\n",
      "\n"
     ]
    }
   ],
   "source": [
    "for topic in range(components_df.shape[0]):\n",
    "    tmp = components_df.iloc[topic]\n",
    "    print(f'For category {topic} the words with the highest value are:')\n",
    "    print(tmp.nlargest(5))\n",
    "    print('\\n')"
   ]
  },
  {
   "cell_type": "markdown",
   "id": "4520fc0b",
   "metadata": {},
   "source": [
    "Next, I have made a short predict function that just returns the largest of the eight scores for each article. It returns a list of predictions of what the articles are of."
   ]
  },
  {
   "cell_type": "code",
   "execution_count": 35,
   "id": "92700b8a",
   "metadata": {},
   "outputs": [],
   "source": [
    "def predict(nmf_features):\n",
    "    prediction = np.argmax(nmf_features, axis = 1)\n",
    "    return prediction"
   ]
  },
  {
   "cell_type": "code",
   "execution_count": 38,
   "id": "da13f9c0",
   "metadata": {},
   "outputs": [
    {
     "name": "stdout",
     "output_type": "stream",
     "text": [
      "[7 7 3 ... 1 5 6]\n",
      "[7 7 1 ... 4 7 6]\n",
      "[7 7 1 ... 5 7 6]\n",
      "[6 6 0 ... 4 6 3]\n",
      "[7 7 1 ... 5 7 6]\n",
      "[7 7 1 ... 5 7 6]\n",
      "[3 3 4 ... 0 3 6]\n",
      "[7 7 1 ... 5 7 6]\n",
      "[7 7 1 ... 5 7 6]\n",
      "[1 1 2 ... 6 1 2]\n",
      "[7 7 2 ... 3 7 2]\n",
      "[7 7 2 ... 3 7 2]\n"
     ]
    }
   ],
   "source": [
    "prediction_vector = []\n",
    "for i in nmf_transformations:\n",
    "    prediction = predict(i)\n",
    "    prediction_vector.append(prediction)\n",
    "    print(prediction)"
   ]
  },
  {
   "cell_type": "markdown",
   "id": "c76173f2",
   "metadata": {},
   "source": [
    "So which number corresponds to which category? Looks like we will have to create a label_permute_compare function to find out. This function compares all possible permutations of the catergories and finds the permutation with the highest accuracy score."
   ]
  },
  {
   "cell_type": "code",
   "execution_count": 40,
   "id": "0d3e4266",
   "metadata": {},
   "outputs": [],
   "source": [
    "import itertools\n",
    "from sklearn.metrics import accuracy_score\n",
    "\n",
    "def label_permute_compare(prediction, actual, categories):\n",
    "    \n",
    "    \n",
    "    label_permutations = list(itertools.permutations(categories))\n",
    "    best_accuracy = 0\n",
    "    best_perm = []\n",
    "    best_transform = []\n",
    "    for i in label_permutations:\n",
    "\n",
    "        lookup = {\n",
    "            i[0]: 0,\n",
    "            i[1]: 1,\n",
    "            i[2]: 2,\n",
    "            i[3]: 3,\n",
    "            i[4]: 4,\n",
    "            i[5]: 5,\n",
    "            i[6]: 6,\n",
    "            i[7]: 7\n",
    "        }\n",
    "        transform_list = []\n",
    "        for j in actual:\n",
    "            transform_list.append(lookup.get(j))\n",
    "\n",
    "        accuracy = accuracy_score(transform_list, prediction)\n",
    "        if best_accuracy < accuracy:\n",
    "            best_accuracy = accuracy\n",
    "            best_perm = i\n",
    "            best_transform = transform_list\n",
    "    return best_perm, best_accuracy, best_transform"
   ]
  },
  {
   "cell_type": "code",
   "execution_count": 43,
   "id": "f1cc7840",
   "metadata": {},
   "outputs": [
    {
     "name": "stdout",
     "output_type": "stream",
     "text": [
      "(10, 'random')\n",
      "(' General Medicine', ' Cardiovascular / Pulmonary', ' Neurology', ' Consult - History and Phy.', ' Surgery', ' Radiology', ' Gastroenterology', ' Orthopedic') 0.4484321873819418\n",
      "(10, 'nndsvd')\n",
      "(' Surgery', ' Consult - History and Phy.', ' Cardiovascular / Pulmonary', ' Neurology', ' General Medicine', ' Radiology', ' Gastroenterology', ' Orthopedic') 0.4729882886286362\n",
      "(10, 'nndsvda')\n",
      "(' Surgery', ' Consult - History and Phy.', ' Cardiovascular / Pulmonary', ' Neurology', ' General Medicine', ' Radiology', ' Gastroenterology', ' Orthopedic') 0.47147714393653195\n",
      "(20, 'random')\n",
      "(' General Medicine', ' Consult - History and Phy.', ' Cardiovascular / Pulmonary', ' Gastroenterology', ' Radiology', ' Surgery', ' Orthopedic', ' Neurology') 0.47638836418587077\n",
      "(20, 'nndsvd')\n",
      "(' Surgery', ' General Medicine', ' Cardiovascular / Pulmonary', ' Neurology', ' Radiology', ' Consult - History and Phy.', ' Gastroenterology', ' Orthopedic') 0.47147714393653195\n",
      "(20, 'nndsvda')\n",
      "(' Surgery', ' General Medicine', ' Cardiovascular / Pulmonary', ' Neurology', ' Radiology', ' Consult - History and Phy.', ' Gastroenterology', ' Orthopedic') 0.47109935776350587\n",
      "(100, 'random')\n",
      "(' Orthopedic', ' Neurology', ' Radiology', ' Surgery', ' Consult - History and Phy.', ' General Medicine', ' Gastroenterology', ' Cardiovascular / Pulmonary') 0.44956554590102005\n",
      "(100, 'nndsvd')\n",
      "(' Surgery', ' General Medicine', ' Cardiovascular / Pulmonary', ' Neurology', ' Radiology', ' Consult - History and Phy.', ' Gastroenterology', ' Orthopedic') 0.4646769928220627\n",
      "(100, 'nndsvda')\n",
      "(' Surgery', ' General Medicine', ' Cardiovascular / Pulmonary', ' Neurology', ' Radiology', ' Consult - History and Phy.', ' Gastroenterology', ' Orthopedic') 0.460521344918776\n",
      "(200, 'random')\n",
      "(' Gastroenterology', ' Surgery', ' Consult - History and Phy.', ' Cardiovascular / Pulmonary', ' Orthopedic', ' Neurology', ' Radiology', ' General Medicine') 0.4185870797128825\n",
      "(200, 'nndsvd')\n",
      "(' Gastroenterology', ' General Medicine', ' Consult - History and Phy.', ' Radiology', ' Cardiovascular / Pulmonary', ' Neurology', ' Surgery', ' Orthopedic') 0.4208537967510389\n",
      "(200, 'nndsvda')\n",
      "(' Gastroenterology', ' Consult - History and Phy.', ' General Medicine', ' Radiology', ' Cardiovascular / Pulmonary', ' Neurology', ' Surgery', ' Orthopedic') 0.42954287873063846\n"
     ]
    }
   ],
   "source": [
    "categories = clean_transcript_data['medical_specialty'].unique()\n",
    "hyperparameters = list(itertools.product(min_df, init))\n",
    "for i in range(len(prediction_vector)):\n",
    "    best_perm, best_accuracy, best_transform = label_permute_compare(prediction_vector[i], y_train, categories)\n",
    "    print(hyperparameters[i])\n",
    "    print(best_perm, best_accuracy)"
   ]
  },
  {
   "cell_type": "markdown",
   "id": "0bb5efb7",
   "metadata": {},
   "source": [
    "After running label_permute_compart, we get the best performing permutation below. The permutation with the highest accuracy at 0.476 with hyperparamets min_df = 20 and init = random. The order of categories are:\n",
    "* General Medicine = 0\n",
    "* Consult = History and Phy = 1\n",
    "* Cardiovascular / Pulmonary = 2\n",
    "* Gastroenterology = 3\n",
    "* Radiology = 4\n",
    "* Surgery = 5\n",
    "* Orthopedic = 6\n",
    "* Neurology = 7\n",
    "\n",
    "Unfortunately, an acurracy score of 0.476 is not a convincing score. Let's take a look at the confusion matrix to see what kind of classifications were correct and what kind of classifications were incorrect. The x-axis represents the predicted values while the y-axis represents the actual value. From the confusion matrix we have some interesting observations:\n",
    "* Surgery (fifth column) looks to have the best performing classification at 0.76 accuracy.\n",
    "* Neurology(last column) has the worst performing classification at 0.03 accuracy. \n",
    "* Neurology transcriptions were incorrectly predicted as Cardiovascular and Surgery transcriptions.\n",
    "* The model really got has bias towards surgery when met with an orthopedic transcription\n",
    "* Many radiology transcriptions were wrongly predicted to be neurology transcriptions\n",
    "* Consult and general medicine are often confused for each other."
   ]
  },
  {
   "cell_type": "code",
   "execution_count": 46,
   "id": "c2c38a69",
   "metadata": {},
   "outputs": [
    {
     "name": "stdout",
     "output_type": "stream",
     "text": [
      "[[ 66 126   0   0  12   0   0   1]\n",
      " [125 250   2   0  20   0   5   3]\n",
      " [ 25  64  86   1  15  45   1  53]\n",
      " [ 14  35   2  71  15  48   0   0]\n",
      " [  2   9  36   1 129  12  14  21]\n",
      " [ 14  11  65  64   4 502 159  64]\n",
      " [ 23  36   0   0  31  41 153   1]\n",
      " [ 29  41   2   0  79  13   2   4]]\n"
     ]
    }
   ],
   "source": [
    "from sklearn.metrics import confusion_matrix\n",
    "\n",
    "best_perm, best_accuracy, best_transform = label_permute_compare(prediction_vector[3], y_train, categories)\n",
    "cm_train = confusion_matrix(best_transform, prediction_vector[3])\n",
    "print(cm_train)"
   ]
  },
  {
   "cell_type": "markdown",
   "id": "1bf31fb0",
   "metadata": {},
   "source": [
    "Next, we have a classification report to confirm the observations from above."
   ]
  },
  {
   "cell_type": "code",
   "execution_count": 48,
   "id": "f0ea4a89",
   "metadata": {},
   "outputs": [
    {
     "name": "stdout",
     "output_type": "stream",
     "text": [
      "                             precision    recall  f1-score   support\n",
      "\n",
      "           General Medicine       0.22      0.32      0.26       205\n",
      " Consult - History and Phy.       0.44      0.62      0.51       405\n",
      " Cardiovascular / Pulmonary       0.45      0.30      0.36       290\n",
      "           Gastroenterology       0.52      0.38      0.44       185\n",
      "                  Radiology       0.42      0.58      0.49       224\n",
      "                    Surgery       0.76      0.57      0.65       883\n",
      "                 Orthopedic       0.46      0.54      0.49       285\n",
      "                  Neurology       0.03      0.02      0.03       170\n",
      "\n",
      "                   accuracy                           0.48      2647\n",
      "                  macro avg       0.41      0.42      0.40      2647\n",
      "               weighted avg       0.51      0.48      0.48      2647\n",
      "\n"
     ]
    }
   ],
   "source": [
    "from sklearn.metrics import classification_report\n",
    "print(classification_report(best_transform, prediction_vector[3], target_names = best_perm))"
   ]
  },
  {
   "cell_type": "markdown",
   "id": "47055be9",
   "metadata": {},
   "source": [
    "Now let's run the test data through the same model. The vectorized data contains 662 transcriptions with the same 3154 unique words. After running the test data through, we get similar results to that of the training data. "
   ]
  },
  {
   "cell_type": "code",
   "execution_count": 51,
   "id": "f2fa8765",
   "metadata": {},
   "outputs": [
    {
     "name": "stdout",
     "output_type": "stream",
     "text": [
      "(662, 3154)\n",
      "(' General Medicine', ' Consult - History and Phy.', ' Cardiovascular / Pulmonary', ' Gastroenterology', ' Neurology', ' Surgery', ' Orthopedic', ' Radiology') 0.4697885196374622\n"
     ]
    }
   ],
   "source": [
    "Y = vectorizers[1].transform(X_test)\n",
    "print(Y.shape)\n",
    "nmf_features_test = nmf_models[3].transform(Y)\n",
    "test_prediction = predict(nmf_features_test)\n",
    "best_p, best_a, best_t = label_permute_compare(test_prediction, y_test, categories)\n",
    "print(best_p, best_a)"
   ]
  },
  {
   "cell_type": "markdown",
   "id": "438131c5",
   "metadata": {},
   "source": [
    "In addition, the same tendencies that plagued the traning data has also affected the test data in similar ways. Interestingly, neurology did much better but radiology did worse."
   ]
  },
  {
   "cell_type": "code",
   "execution_count": 52,
   "id": "e5d3723f",
   "metadata": {},
   "outputs": [
    {
     "name": "stdout",
     "output_type": "stream",
     "text": [
      "[[ 20  33   0   0   1   0   0   0]\n",
      " [ 35  65   2   0   8   0   1   0]\n",
      " [  7  17  33   0   3  10   0  11]\n",
      " [  6   2   0  10   4  16   1   0]\n",
      " [  6  14   1   0  27   4   1   0]\n",
      " [  2   1  14  20   2 115  37  14]\n",
      " [  3   8   0   0   8  12  38   1]\n",
      " [  0   3   9   0  28   3   3   3]]\n"
     ]
    }
   ],
   "source": [
    "cm_test = confusion_matrix(best_t, test_prediction)\n",
    "print(cm_test)"
   ]
  },
  {
   "cell_type": "code",
   "execution_count": 53,
   "id": "932e7f8b",
   "metadata": {},
   "outputs": [
    {
     "name": "stdout",
     "output_type": "stream",
     "text": [
      "                             precision    recall  f1-score   support\n",
      "\n",
      "           General Medicine       0.25      0.37      0.30        54\n",
      " Consult - History and Phy.       0.45      0.59      0.51       111\n",
      " Cardiovascular / Pulmonary       0.56      0.41      0.47        81\n",
      "           Gastroenterology       0.33      0.26      0.29        39\n",
      "                  Neurology       0.33      0.51      0.40        53\n",
      "                    Surgery       0.72      0.56      0.63       205\n",
      "                 Orthopedic       0.47      0.54      0.50        70\n",
      "                  Radiology       0.10      0.06      0.08        49\n",
      "\n",
      "                   accuracy                           0.47       662\n",
      "                  macro avg       0.40      0.41      0.40       662\n",
      "               weighted avg       0.49      0.47      0.47       662\n",
      "\n"
     ]
    }
   ],
   "source": [
    "print(classification_report(best_t, test_prediction, target_names = best_p))"
   ]
  },
  {
   "cell_type": "markdown",
   "id": "76939f8e",
   "metadata": {},
   "source": [
    "### Agglomerative Clustering"
   ]
  },
  {
   "cell_type": "markdown",
   "id": "e847022d",
   "metadata": {},
   "source": [
    "Let's take another unsupervised learning approach. This time, we will be using Agglomerative Clustering to classify the medical specialties. The idea is that since there are likely many words that overlap in many different medical categories, we can force these terms to pick a single specialty with Agglomerative Clustering. Since we already have the matrix from TfidfVectorizer, we can convert that to a dense matrix and create the Agglomerative Clustering model."
   ]
  },
  {
   "cell_type": "code",
   "execution_count": 63,
   "id": "52e39208",
   "metadata": {},
   "outputs": [
    {
     "name": "stdout",
     "output_type": "stream",
     "text": [
      "(10, 'ward')\n",
      "(' Orthopedic', ' Radiology', ' Consult - History and Phy.', ' Cardiovascular / Pulmonary', ' Gastroenterology', ' Surgery', ' General Medicine', ' Neurology') 0.4854552323384964\n",
      "(10, 'complete')\n",
      "(' Cardiovascular / Pulmonary', ' General Medicine', ' Neurology', ' Consult - History and Phy.', ' Radiology', ' Surgery', ' Gastroenterology', ' Orthopedic') 0.41329807329051754\n",
      "(10, 'average')\n",
      "(' Surgery', ' Orthopedic', ' Gastroenterology', ' Radiology', ' Consult - History and Phy.', ' Cardiovascular / Pulmonary', ' Neurology', ' General Medicine') 0.33660748016622594\n",
      "(10, 'single')\n",
      "(' Surgery', ' Radiology', ' Cardiovascular / Pulmonary', ' Neurology', ' General Medicine', ' Orthopedic', ' Gastroenterology', ' Consult - History and Phy.') 0.33698526633925197\n",
      "(20, 'ward')\n",
      "(' Orthopedic', ' Consult - History and Phy.', ' Radiology', ' Cardiovascular / Pulmonary', ' Gastroenterology', ' General Medicine', ' Surgery', ' Neurology') 0.47903286739705325\n",
      "(20, 'complete')\n",
      "(' Gastroenterology', ' Cardiovascular / Pulmonary', ' Consult - History and Phy.', ' Neurology', ' Surgery', ' Orthopedic', ' General Medicine', ' Radiology') 0.4454098979977333\n",
      "(20, 'average')\n",
      "(' Surgery', ' Cardiovascular / Pulmonary', ' Consult - History and Phy.', ' Neurology', ' Orthopedic', ' Radiology', ' Gastroenterology', ' General Medicine') 0.33471854930109557\n",
      "(20, 'single')\n",
      "(' Surgery', ' Consult - History and Phy.', ' Radiology', ' Cardiovascular / Pulmonary', ' Neurology', ' Orthopedic', ' Gastroenterology', ' General Medicine') 0.33585190782017377\n",
      "(100, 'ward')\n",
      "(' Consult - History and Phy.', ' Radiology', ' Orthopedic', ' Cardiovascular / Pulmonary', ' Gastroenterology', ' General Medicine', ' Surgery', ' Neurology') 0.49414431431809597\n",
      "(100, 'complete')\n",
      "(' Consult - History and Phy.', ' Orthopedic', ' Radiology', ' Cardiovascular / Pulmonary', ' Neurology', ' General Medicine', ' Surgery', ' Gastroenterology') 0.4650547789950888\n",
      "(100, 'average')\n",
      "(' Surgery', ' Neurology', ' Cardiovascular / Pulmonary', ' Orthopedic', ' Consult - History and Phy.', ' Gastroenterology', ' Radiology', ' General Medicine') 0.33509633547412165\n",
      "(100, 'single')\n",
      "(' Surgery', ' Cardiovascular / Pulmonary', ' Gastroenterology', ' General Medicine', ' Consult - History and Phy.', ' Neurology', ' Radiology', ' Orthopedic') 0.33471854930109557\n",
      "(200, 'ward')\n",
      "(' Surgery', ' Radiology', ' Consult - History and Phy.', ' General Medicine', ' Cardiovascular / Pulmonary', ' Neurology', ' Orthopedic', ' Gastroenterology') 0.47261050245561015\n",
      "(200, 'complete')\n",
      "(' Consult - History and Phy.', ' Orthopedic', ' Neurology', ' Cardiovascular / Pulmonary', ' Radiology', ' General Medicine', ' Surgery', ' Gastroenterology') 0.44956554590102005\n",
      "(200, 'average')\n",
      "(' Surgery', ' Orthopedic', ' Gastroenterology', ' Consult - History and Phy.', ' Cardiovascular / Pulmonary', ' General Medicine', ' Neurology', ' Radiology') 0.33547412164714774\n",
      "(200, 'single')\n",
      "(' Surgery', ' Cardiovascular / Pulmonary', ' Gastroenterology', ' General Medicine', ' Neurology', ' Consult - History and Phy.', ' Radiology', ' Orthopedic') 0.33358519078201737\n"
     ]
    }
   ],
   "source": [
    "from sklearn.cluster import AgglomerativeClustering\n",
    "linkage = ['ward', 'complete', 'average', 'single']\n",
    "hyperparameters = list(itertools.product(min_df, linkage))\n",
    "count = 0\n",
    "for i in X_vects:\n",
    "    for j in linkage:\n",
    "        clustering = AgglomerativeClustering(n_clusters = 8, linkage = j).fit(i.toarray())\n",
    "        ac_prediction = clustering.labels_\n",
    "        bestac_p, bestac_a, bestac_t = label_permute_compare(ac_prediction, y_train, categories)\n",
    "        print(hyperparameters[count])\n",
    "        print(bestac_p, bestac_a)\n",
    "        count = count+1"
   ]
  },
  {
   "cell_type": "markdown",
   "id": "9fb2ca3d",
   "metadata": {},
   "source": [
    "After creating the model and generating labels, we use the label_permute_compare from earlier to identify the labels and produce an accuracy score. The accuracy score from the Agglomerative Clustering in about the same as the NMF score able at 0.494 with hyperparemeters min_df = 100 and linkage = ward. "
   ]
  },
  {
   "cell_type": "code",
   "execution_count": 64,
   "id": "af4b4d82",
   "metadata": {},
   "outputs": [
    {
     "name": "stdout",
     "output_type": "stream",
     "text": [
      "(' Consult - History and Phy.', ' Radiology', ' Orthopedic', ' Cardiovascular / Pulmonary', ' Gastroenterology', ' General Medicine', ' Surgery', ' Neurology') 0.49414431431809597\n"
     ]
    }
   ],
   "source": [
    "clustering = AgglomerativeClustering(n_clusters = 8, linkage = 'ward').fit(X_vects[2].toarray())\n",
    "ac_prediction = clustering.labels_\n",
    "bestac_p, bestac_a, bestac_t = label_permute_compare(ac_prediction, y_train, categories)\n",
    "print(bestac_p, bestac_a)"
   ]
  },
  {
   "cell_type": "markdown",
   "id": "a56d2af5",
   "metadata": {},
   "source": [
    "From the confusion matrix, we look to have some of the same observations as the NMF confusion matrix and some different observations. Some of the same observations are: \n",
    "* Orthopedic is again often mistaken for surgery\n",
    "* Surgery has the highest accuracy of all of the medical specialties.\n",
    "* General medicine continues to have the lowest of one of the lowest accuracy in both models\n",
    "* Consult and general medicine continues to be confused with each other.\n",
    "\n",
    "However, there are also some differences:\n",
    "* Neurology had the lowest accuracy in NMF but is closer to the average as far as accuracy goes in the clustering model.\n",
    "* Many of the cardiovasvular / pulmonary transcriptions are predicted to be another medical specialty\n",
    "* Radiology transcriptions are most often mistaken for surgery and neurology transcriptions"
   ]
  },
  {
   "cell_type": "code",
   "execution_count": 65,
   "id": "4a953db5",
   "metadata": {},
   "outputs": [
    {
     "name": "stdout",
     "output_type": "stream",
     "text": [
      "[[240  55   7   1   0  82   9  11]\n",
      " [  1 122  20  12   0   0  24  45]\n",
      " [ 10  54 175   0   0  13  25   8]\n",
      " [ 59  65   0  53   0  17  95   1]\n",
      " [ 30  27   0   1  65  10  52   0]\n",
      " [156   9   1   0   0  35   3   1]\n",
      " [ 12  30 160  52  57   3 569   0]\n",
      " [ 32  42   8   2   0  19  18  49]]\n"
     ]
    }
   ],
   "source": [
    "cm_ac = confusion_matrix(bestac_t, ac_prediction)\n",
    "\n",
    "print(cm_ac)"
   ]
  },
  {
   "cell_type": "markdown",
   "id": "59fd3968",
   "metadata": {},
   "source": [
    "Again, the classification report confirms the observations from the confusion matrix above."
   ]
  },
  {
   "cell_type": "code",
   "execution_count": 66,
   "id": "3df61338",
   "metadata": {},
   "outputs": [
    {
     "name": "stdout",
     "output_type": "stream",
     "text": [
      "                             precision    recall  f1-score   support\n",
      "\n",
      " Consult - History and Phy.       0.44      0.59      0.51       405\n",
      "                  Radiology       0.30      0.54      0.39       224\n",
      "                 Orthopedic       0.47      0.61      0.53       285\n",
      " Cardiovascular / Pulmonary       0.44      0.18      0.26       290\n",
      "           Gastroenterology       0.53      0.35      0.42       185\n",
      "           General Medicine       0.20      0.17      0.18       205\n",
      "                    Surgery       0.72      0.64      0.68       883\n",
      "                  Neurology       0.43      0.29      0.34       170\n",
      "\n",
      "                   accuracy                           0.49      2647\n",
      "                  macro avg       0.44      0.42      0.41      2647\n",
      "               weighted avg       0.51      0.49      0.49      2647\n",
      "\n"
     ]
    }
   ],
   "source": [
    "print(classification_report(bestac_t, ac_prediction, target_names = bestac_p))"
   ]
  },
  {
   "cell_type": "code",
   "execution_count": null,
   "id": "ee6ec194",
   "metadata": {},
   "outputs": [],
   "source": []
  }
 ],
 "metadata": {
  "kernelspec": {
   "display_name": "Python 3 (ipykernel)",
   "language": "python",
   "name": "python3"
  },
  "language_info": {
   "codemirror_mode": {
    "name": "ipython",
    "version": 3
   },
   "file_extension": ".py",
   "mimetype": "text/x-python",
   "name": "python",
   "nbconvert_exporter": "python",
   "pygments_lexer": "ipython3",
   "version": "3.7.3"
  }
 },
 "nbformat": 4,
 "nbformat_minor": 5
}
